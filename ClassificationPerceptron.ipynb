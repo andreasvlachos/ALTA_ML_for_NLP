{
 "cells": [
  {
   "cell_type": "code",
   "execution_count": 1,
   "metadata": {
    "collapsed": false,
    "deletable": true,
    "editable": true,
    "slideshow": {
     "slide_type": "skip"
    }
   },
   "outputs": [],
   "source": [
    "import numpy as np;\n",
    "import re\n",
    "from os import listdir\n",
    "from os.path import isfile, join\n",
    "from collections import Counter,defaultdict\n",
    "import random\n",
    "\n",
    "\n",
    "filepath_pos = \"review_polarity/txt_sentoken/pos/\"\n",
    "filepath_neg = \"review_polarity/txt_sentoken/neg/\"\n",
    "\n",
    "filenames_pos = sorted([filepath_pos+f for f in listdir(filepath_pos) if isfile(join(filepath_pos,f))])\n",
    "filenames_neg = sorted([filepath_neg+f for f in listdir(filepath_neg) if isfile(join(filepath_neg,f))])\n",
    "\n",
    "train_filenames_pos = filenames_pos[:800]\n",
    "train_filenames_neg = filenames_neg[:800]\n",
    "\n",
    "test_filenames_pos = filenames_pos[800:]\n",
    "test_filenames_neg = filenames_neg[800:]\n",
    "#\n",
    "train_filenames = train_filenames_pos + train_filenames_neg\n",
    "test_filenames = test_filenames_pos + test_filenames_neg\n",
    "\n",
    "classes = [1,-1]\n",
    "\n",
    "\n",
    "def get_data(filenames_pos, filenames_neg):\n",
    "    data = []\n",
    "    new_data = []\n",
    "    for filename in filenames_pos:\n",
    "        word_list = []\n",
    "        with open(filename) as fh:\n",
    "            for line in fh.readlines():\n",
    "                word_list.extend(re.sub(\"[^\\w']\",\" \",line).split())\n",
    "        data.append((1,Counter(word_list)))\n",
    "        \n",
    "    for filename in filenames_neg:\n",
    "        word_list = []\n",
    "        with open(filename) as fh:\n",
    "            for line in fh.readlines():\n",
    "                word_list.extend(re.sub(\"[^\\w']\",\" \",line).split())\n",
    "        data.append((-1,Counter(word_list)))\n",
    "    \n",
    "    for label,feature_dict in data :   \n",
    "        words = feature_dict.keys()\n",
    "        values = feature_dict.values()\n",
    "        feature_dict = Counter(dict(zip(words,values)))\n",
    "        new_data.append((label,feature_dict))\n",
    "        \n",
    "    return new_data\n"
   ]
  },
  {
   "cell_type": "markdown",
   "metadata": {
    "collapsed": true,
    "deletable": true,
    "editable": true,
    "slideshow": {
     "slide_type": "slide"
    }
   },
   "source": [
    "<h3>Text classification</h3>\n",
    "\n",
    "A very common problem in NLP:\n",
    "<center>\n",
    "<p style=\"border:3px; width: 500px; border-radius: 25px; background-color:lightgrey; border-style:solid; border-color:black; padding: 1em;\">\n",
    "<i>Given a piece of text, assign a label from a predefined set</i>\n",
    "</p>\n",
    "</center>\n",
    "\n",
    "<b>What could the labels be?</b>"
   ]
  },
  {
   "cell_type": "markdown",
   "metadata": {
    "deletable": true,
    "editable": true,
    "slideshow": {
     "slide_type": "fragment"
    }
   },
   "source": [
    "<ul>\n",
    "<li>positive vs negative (e.g. sentiment in reviews)</li>\n",
    "<li>about world politics or not</li>\n",
    "<li>author name (author identification)</li>\n",
    "<li>pass or fail in essay grading</li>\n",
    "</ul>"
   ]
  },
  {
   "cell_type": "markdown",
   "metadata": {
    "deletable": true,
    "editable": true,
    "slideshow": {
     "slide_type": "slide"
    }
   },
   "source": [
    "### In this section\n",
    "\n",
    "We will see how to:\n",
    "- representing text with numbers\n",
    "- learn a classifier using the perceptron rule"
   ]
  },
  {
   "cell_type": "markdown",
   "metadata": {
    "deletable": true,
    "editable": true,
    "slideshow": {
     "slide_type": "fragment"
    }
   },
   "source": [
    "... and you will ask me questions!\n",
    "\n",
    "The maths we need is addition, subtraction, multiplication and division! "
   ]
  },
  {
   "cell_type": "code",
   "execution_count": null,
   "metadata": {
    "collapsed": true,
    "deletable": true,
    "editable": true,
    "slideshow": {
     "slide_type": "skip"
    }
   },
   "outputs": [],
   "source": [
    "example_text = open(\"review_polarity/txt_sentoken/pos/cv750_10180.txt\").read()"
   ]
  },
  {
   "cell_type": "markdown",
   "metadata": {
    "deletable": true,
    "editable": true,
    "slideshow": {
     "slide_type": "slide"
    }
   },
   "source": [
    "### Sentiment analysis on film reviews\n",
    "\n",
    "<img src=\"images/imdb.jpg\" style=\"width:100%;\">"
   ]
  },
  {
   "cell_type": "markdown",
   "metadata": {
    "deletable": true,
    "editable": true,
    "slideshow": {
     "slide_type": "slide"
    }
   },
   "source": [
    "### Representing text with numbers"
   ]
  },
  {
   "cell_type": "code",
   "execution_count": null,
   "metadata": {
    "collapsed": false,
    "deletable": true,
    "editable": true,
    "scrolled": true,
    "slideshow": {
     "slide_type": "-"
    }
   },
   "outputs": [],
   "source": [
    "print(example_text)"
   ]
  },
  {
   "cell_type": "markdown",
   "metadata": {
    "deletable": true,
    "editable": true,
    "slideshow": {
     "slide_type": "subslide"
    }
   },
   "source": [
    "### Counting words"
   ]
  },
  {
   "cell_type": "code",
   "execution_count": null,
   "metadata": {
    "collapsed": false,
    "deletable": true,
    "editable": true,
    "slideshow": {
     "slide_type": "-"
    }
   },
   "outputs": [],
   "source": [
    "dictionary = Counter(re.sub(\"[^\\w']\",\" \",example_text).split())\n",
    "print(dictionary)"
   ]
  },
  {
   "cell_type": "markdown",
   "metadata": {
    "deletable": true,
    "editable": true,
    "slideshow": {
     "slide_type": "subslide"
    }
   },
   "source": [
    "### Bag of words representation\n",
    "\n",
    "- The higher the counts for a word, the more important it is for the document\n",
    "- No document has very word; most have 0 counts (implicitly)"
   ]
  },
  {
   "cell_type": "markdown",
   "metadata": {
    "deletable": true,
    "editable": true,
    "slideshow": {
     "slide_type": "fragment"
    }
   },
   "source": [
    "Anything missing?"
   ]
  },
  {
   "cell_type": "markdown",
   "metadata": {
    "deletable": true,
    "editable": true,
    "slideshow": {
     "slide_type": "fragment"
    }
   },
   "source": [
    "- which words to keep?\n",
    "- how to value their presence/absence?\n",
    "- word order is ignored, could we add bigrams?"
   ]
  },
  {
   "cell_type": "markdown",
   "metadata": {
    "deletable": true,
    "editable": true,
    "slideshow": {
     "slide_type": "fragment"
    }
   },
   "source": [
    "Choice of representation (features) matters a lot!"
   ]
  },
  {
   "cell_type": "markdown",
   "metadata": {
    "deletable": true,
    "editable": true,
    "slideshow": {
     "slide_type": "slide"
    }
   },
   "source": [
    "### Our first classifier\n",
    "\n",
    "Now we have represented a text as counts over words/features.\n",
    "\n",
    "We need a model to decide whether the review is positive or negative."
   ]
  },
  {
   "cell_type": "markdown",
   "metadata": {
    "deletable": true,
    "editable": true,
    "slideshow": {
     "slide_type": "fragment"
    }
   },
   "source": [
    "If each word $n$ has counts $x_n$ in the review and is associated with a weight ($w_n$), then:\n",
    "\n",
    "$$\\hat y = sign(\\sum_{n=1}^N w_nx_n) = sign(\\mathbf{w} \\cdot \\mathbf{x})$$"
   ]
  },
  {
   "cell_type": "code",
   "execution_count": null,
   "metadata": {
    "collapsed": true,
    "deletable": true,
    "editable": true,
    "slideshow": {
     "slide_type": "skip"
    }
   },
   "outputs": [],
   "source": [
    "bag_of_words=Counter({'and': 37, 'is': 26, 'he': 11, 'great': 10, 'carlito': 9, 'film': 8, 'but': 8, 'some': 7, 'pacino': 7, \"carlito's\": 7, 'palma': 5, 'well': 5, 'like': 5,  'woman': 4, 'amazing': 4}) "
   ]
  },
  {
   "cell_type": "markdown",
   "metadata": {
    "deletable": true,
    "editable": true,
    "slideshow": {
     "slide_type": "subslide"
    }
   },
   "source": [
    "$$\\hat y = sign(\\sum_{n=1}^N w_nx_n) = sign(\\mathbf{w} \\cdot \\mathbf{x})$$"
   ]
  },
  {
   "cell_type": "code",
   "execution_count": null,
   "metadata": {
    "collapsed": false,
    "deletable": true,
    "editable": true
   },
   "outputs": [],
   "source": [
    "print(bag_of_words)"
   ]
  },
  {
   "cell_type": "code",
   "execution_count": null,
   "metadata": {
    "collapsed": false,
    "deletable": true,
    "editable": true
   },
   "outputs": [],
   "source": [
    "weights = dict({'and': 0.0, 'is': 0.0, 'he': 0.0, 'great': 0.0,\\\n",
    "                'carlito': 0.0, 'but': 0.0, 'film': 0.0, 'some': 0.0,\\\n",
    "                'carlito\\'s': 0.0, 'pacino': 0.0, 'like': 0.0,\\\n",
    "                'palma': 0.0, 'well': 0.0, 'amazing': 0.0, 'woman': 0.0})"
   ]
  },
  {
   "cell_type": "code",
   "execution_count": null,
   "metadata": {
    "collapsed": false,
    "deletable": true,
    "editable": true
   },
   "outputs": [],
   "source": [
    "score = 0.0\n",
    "for word, counts in bag_of_words.items():\n",
    "    score += counts * weights[word]\n",
    "print(score)\n",
    "print(\"positive\") if score >= 0.0 else print(\"negative\")"
   ]
  },
  {
   "cell_type": "markdown",
   "metadata": {
    "deletable": true,
    "editable": true,
    "slideshow": {
     "slide_type": "subslide"
    }
   },
   "source": [
    "<h3>Another view</h3>\n",
    "<a href=\"https://blog.dbrgn.ch/2013/3/26/perceptrons-in-python/\"><img src=\"images/perceptron.png\" style=\"width:600px; background:none; border:none; box-shadow:none;\" /></a>\n",
    "<p class=\"fragment\">\n",
    "How to learn the weights $\\mathbf{w}$?\n",
    "</p>"
   ]
  },
  {
   "cell_type": "markdown",
   "metadata": {
    "deletable": true,
    "editable": true,
    "slideshow": {
     "slide_type": "slide"
    }
   },
   "source": [
    "<h3>The perceptron</h3>\n",
    "\n",
    "<p><img style=\"float: left; width:40%\" src=\"images/colorfulperceptron.jpg\"/><img src=\"images/Rosenblatt-CAL1958.jpg\" style=\"width:35%; float: right;\"/>\n",
    "</p>"
   ]
  },
  {
   "cell_type": "markdown",
   "metadata": {
    "deletable": true,
    "editable": true,
    "slideshow": {
     "slide_type": "-"
    }
   },
   "source": [
    "<p>Proposed by Rosenblatt in 1958 and still in use by researchers</p>"
   ]
  },
  {
   "cell_type": "markdown",
   "metadata": {
    "deletable": true,
    "editable": true,
    "slideshow": {
     "slide_type": "subslide"
    }
   },
   "source": [
    "### Supervised learning\n",
    "\n",
    "Given training documents with the correct labels\n",
    "\n",
    "$$D_{train} = \\{\\mathbf{x}^1,y^1)...(\\mathbf{x}^M,y^M)\\}$$\n",
    "\n",
    "Find the weights $\\mathbf{w}$ for the linear classifier\n",
    "\n",
    "$$\\hat y = sign(\\sum_{n=1}^N w_nx_n) = sign(\\mathbf{w} \\cdot \\mathbf{x})$$\n",
    "\n",
    "so that we can predict the labels of **unseen** documents\n"
   ]
  },
  {
   "cell_type": "markdown",
   "metadata": {
    "deletable": true,
    "editable": true,
    "slideshow": {
     "slide_type": "subslide"
    }
   },
   "source": [
    "### Supervised learning\n",
    "\n",
    "\n",
    "<img src=\"images/supervisedMLbyRaschka.jpg\" style=\"width:100%;\">"
   ]
  },
  {
   "cell_type": "markdown",
   "metadata": {
    "deletable": true,
    "editable": true,
    "slideshow": {
     "slide_type": "subslide"
    }
   },
   "source": [
    "<h3>Learning with the perceptron</h3>\n",
    "<p style=\"font-size: 90%; border:3px; width: 90%; border-radius: 25px; background-color:lightgrey; border-style:solid; border-color:black; padding: 0.3em;\">\n",
    "\\begin{align}\n",
    "& \\textbf{Input:} \\; D_{train} = \\{(\\mathbf{x}^1,y^1)...(\\mathbf{x}^M,y^M)\\}\\\\\n",
    "& set\\; \\mathbf{w} = \\mathbf{0} \\\\\n",
    "& \\mathbf{for} \\; (\\mathbf{x},y) \\in D_{train} \\; \\mathbf{do}\\\\\n",
    "& \\quad predict  \\; \\hat y = sign(\\mathbf{w}\\cdot \\phi(\\mathbf{x}))\\\\\n",
    "& \\quad \\mathbf{if} \\; \\hat y \\neq y \\; \\mathbf{then}\\\\\n",
    "& \\quad \\quad \\mathbf{if} \\; \\hat y\\; \\mathbf{is}\\; 1 \\; \\mathbf{then}\\\\\n",
    "& \\quad \\quad \\quad update \\; \\mathbf{w} = \\mathbf{w} - \\phi(\\mathbf{x})\\\\\n",
    "& \\quad \\quad \\mathbf{else}\\\\\n",
    "& \\quad \\quad \\quad update \\; \\mathbf{w} = \\mathbf{w} + \\phi(\\mathbf{x})\\\\\n",
    "& \\mathbf{return} \\; \\mathbf{w}\n",
    "\\end{align}\n",
    "</p>\n",
    "\n",
    "<ul class=\"fragment\">\n",
    "<li>error-driven, online learning</li>\n",
    "<li>$x$ is the document $\\phi(x)$ is the bag of words, bigrams, etc.</li>\n",
    "</ul>"
   ]
  },
  {
   "cell_type": "markdown",
   "metadata": {
    "deletable": true,
    "editable": true,
    "slideshow": {
     "slide_type": "slide"
    }
   },
   "source": [
    "### A little test\n",
    "\n",
    "Given the following tweets labeled with sentiment:\n",
    "\n",
    "| Label        | Tweet | \n",
    "| -------------|--------|\n",
    "| negative     | Very sad about Iran. |\n",
    "| negative     | No Sat off...Need to work 6 days a week. |\n",
    "| negative     | I’m a sad panda today.|\n",
    "| positive     | such a beautiful satisfying day of bargain shopping. loves it. |\n",
    "| positive     | who else is in a happy mood?? |\n",
    "| positive     | actually quite happy today. |\n",
    "\n",
    "What features would the perceptron find indicative of positive/negative class?\n",
    "\n",
    "Would they generalize to unseen test data?"
   ]
  },
  {
   "cell_type": "markdown",
   "metadata": {
    "deletable": true,
    "editable": true,
    "slideshow": {
     "slide_type": "slide"
    }
   },
   "source": [
    "### Sparsity and the bias\n",
    "\n",
    "In NLP, no matter how large our training dataset, we will never see (enough of) all the words/features.\n",
    "- features unseen in training are ignored in testing\n",
    "- there are ways to ameliorate this issue (e.g. word clusters), but it never goes away\n",
    "- there will be texts containing only unseen words"
   ]
  },
  {
   "cell_type": "markdown",
   "metadata": {
    "deletable": true,
    "editable": true,
    "slideshow": {
     "slide_type": "fragment"
    }
   },
   "source": [
    "Bias: that appears in each instance\n",
    "- its value is hardcoded to 1 \n",
    "- that 1 in the diagram\n",
    "- effectively learns to predict the majority class"
   ]
  },
  {
   "cell_type": "markdown",
   "metadata": {
    "deletable": true,
    "editable": true,
    "slideshow": {
     "slide_type": "slide"
    }
   },
   "source": [
    "### Evaluation\n",
    "\n",
    "The standard way to evaluate our classifier is:\n",
    "\n",
    "$$ Accuracy = \\frac{correctLabels}{allInstances}$$\n",
    "\n",
    "What could go wrong?"
   ]
  },
  {
   "cell_type": "markdown",
   "metadata": {
    "deletable": true,
    "editable": true,
    "slideshow": {
     "slide_type": "fragment"
    }
   },
   "source": [
    "When one class is much more common than the other, predicting it always\n",
    "gives high accuracy."
   ]
  },
  {
   "cell_type": "markdown",
   "metadata": {
    "deletable": true,
    "editable": true,
    "slideshow": {
     "slide_type": "subslide"
    }
   },
   "source": [
    "### Evaluation\n",
    "\n",
    "| Predicted/Correct\t| MinorityClass | MajorityClass  |\n",
    "| ------------- \t\t|:-------------:| -----:|\n",
    "| **MinorityClass**     | TruePositive | FalsePositive |\n",
    "| **MajorityClass**     | FalseNegative  | TrueNegative |\n",
    "\n",
    "$$ Precision = \\frac{TruePositive}{TruePositive+FalsePositive}$$\n",
    "\n",
    "$$ Recall = \\frac{TruePositive}{TruePositive+FalseNegative}$$"
   ]
  },
  {
   "cell_type": "markdown",
   "metadata": {
    "deletable": true,
    "editable": true,
    "slideshow": {
     "slide_type": "slide"
    }
   },
   "source": [
    "### Time for (another!) test\n",
    "\n",
    "<img src=\"images/maxresdefault.jpg\" style=\"width:80%;\">\n",
    "\n",
    "Discuss in pairs what features you would use in a classifier that predicts FAIL/PASS for an essay!"
   ]
  }
 ],
 "metadata": {
  "celltoolbar": "Slideshow",
  "kernelspec": {
   "display_name": "Python 3",
   "language": "python",
   "name": "python3"
  },
  "language_info": {
   "codemirror_mode": {
    "name": "ipython",
    "version": 3
   },
   "file_extension": ".py",
   "mimetype": "text/x-python",
   "name": "python",
   "nbconvert_exporter": "python",
   "pygments_lexer": "ipython3",
   "version": "3.5.2"
  },
  "livereveal": {
   "start_slideshow_at": "selected",
   "theme": "solarized",
   "transition": "slide"
  }
 },
 "nbformat": 4,
 "nbformat_minor": 2
}
