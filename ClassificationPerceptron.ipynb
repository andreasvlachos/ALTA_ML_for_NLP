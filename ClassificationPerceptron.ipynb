{
 "cells": [
  {
   "cell_type": "code",
   "execution_count": 9,
   "metadata": {
    "collapsed": false,
    "deletable": true,
    "editable": true,
    "slideshow": {
     "slide_type": "skip"
    }
   },
   "outputs": [],
   "source": [
    "import numpy as np;\n",
    "import re\n",
    "from os import listdir\n",
    "from os.path import isfile, join\n",
    "from collections import Counter,defaultdict\n",
    "import random\n",
    "\n",
    "\n",
    "filepath_pos = \"review_polarity/txt_sentoken/pos/\"\n",
    "filepath_neg = \"review_polarity/txt_sentoken/neg/\"\n",
    "\n",
    "filenames_pos = sorted([filepath_pos+f for f in listdir(filepath_pos) if isfile(join(filepath_pos,f))])\n",
    "filenames_neg = sorted([filepath_neg+f for f in listdir(filepath_neg) if isfile(join(filepath_neg,f))])\n",
    "\n",
    "train_filenames_pos = filenames_pos[:800]\n",
    "train_filenames_neg = filenames_neg[:800]\n",
    "\n",
    "test_filenames_pos = filenames_pos[800:]\n",
    "test_filenames_neg = filenames_neg[800:]\n",
    "#\n",
    "train_filenames = train_filenames_pos + train_filenames_neg\n",
    "test_filenames = test_filenames_pos + test_filenames_neg\n",
    "\n",
    "classes = [1,-1]\n",
    "\n",
    "\n",
    "def get_data(filenames_pos, filenames_neg):\n",
    "    data = []\n",
    "    new_data = []\n",
    "    for filename in filenames_pos:\n",
    "        word_list = []\n",
    "        with open(filename) as fh:\n",
    "            for line in fh.readlines():\n",
    "                word_list.extend(re.sub(\"[^\\w']\",\" \",line).split())\n",
    "        data.append((1,Counter(word_list)))\n",
    "        \n",
    "    for filename in filenames_neg:\n",
    "        word_list = []\n",
    "        with open(filename) as fh:\n",
    "            for line in fh.readlines():\n",
    "                word_list.extend(re.sub(\"[^\\w']\",\" \",line).split())\n",
    "        data.append((-1,Counter(word_list)))\n",
    "    \n",
    "    for label,feature_dict in data :   \n",
    "        words = feature_dict.keys()\n",
    "        values = feature_dict.values()\n",
    "        feature_dict = Counter(dict(zip(words,values)))\n",
    "        new_data.append((label,feature_dict))\n",
    "        \n",
    "    return new_data\n"
   ]
  },
  {
   "cell_type": "markdown",
   "metadata": {
    "collapsed": true,
    "deletable": true,
    "editable": true,
    "slideshow": {
     "slide_type": "slide"
    }
   },
   "source": [
    "<h3>Text classification</h3>\n",
    "\n",
    "A very common problem in NLP:\n",
    "<center>\n",
    "<p style=\"border:3px; width: 500px; border-radius: 25px; background-color:lightgrey; border-style:solid; border-color:black; padding: 1em;\">\n",
    "<i>Given a piece of text, assign a label from a predefined set</i>\n",
    "</p>\n",
    "</center>\n",
    "\n",
    "<b>What could the labels be?</b>"
   ]
  },
  {
   "cell_type": "markdown",
   "metadata": {
    "deletable": true,
    "editable": true,
    "slideshow": {
     "slide_type": "fragment"
    }
   },
   "source": [
    "<ul>\n",
    "<li>positive vs negative (e.g. sentiment in reviews)</li>\n",
    "<li>about world politics or not</li>\n",
    "<li>author name (author identification)</li>\n",
    "<li>pass or fail in essay grading</li>\n",
    "</ul>"
   ]
  },
  {
   "cell_type": "markdown",
   "metadata": {
    "deletable": true,
    "editable": true,
    "slideshow": {
     "slide_type": "slide"
    }
   },
   "source": [
    "### In this section\n",
    "\n",
    "We will see how to:\n",
    "- representing text with numbers\n",
    "- learn a classifier using the perceptron rule"
   ]
  },
  {
   "cell_type": "markdown",
   "metadata": {
    "deletable": true,
    "editable": true,
    "slideshow": {
     "slide_type": "fragment"
    }
   },
   "source": [
    "... and you will ask me questions!\n",
    "\n",
    "The maths we need is addition, subtraction, multiplication and division! "
   ]
  },
  {
   "cell_type": "code",
   "execution_count": 38,
   "metadata": {
    "collapsed": true,
    "deletable": true,
    "editable": true,
    "slideshow": {
     "slide_type": "skip"
    }
   },
   "outputs": [],
   "source": [
    "example_text = open(\"review_polarity/txt_sentoken/pos/cv750_10180.txt\").read()"
   ]
  },
  {
   "cell_type": "markdown",
   "metadata": {
    "deletable": true,
    "editable": true,
    "slideshow": {
     "slide_type": "slide"
    }
   },
   "source": [
    "### Sentiment analysis on film reviews\n",
    "\n",
    "<img src=\"images/imdb.jpg\" style=\"width:100%;\">"
   ]
  },
  {
   "cell_type": "markdown",
   "metadata": {
    "deletable": true,
    "editable": true,
    "slideshow": {
     "slide_type": "slide"
    }
   },
   "source": [
    "### Representing text with numbers"
   ]
  },
  {
   "cell_type": "code",
   "execution_count": 14,
   "metadata": {
    "collapsed": false,
    "deletable": true,
    "editable": true,
    "scrolled": true,
    "slideshow": {
     "slide_type": "-"
    }
   },
   "outputs": [
    {
     "name": "stdout",
     "output_type": "stream",
     "text": [
      "what's shocking about \" carlito's way \" is how good it is . \n",
      "having gotten a bit of a bad rap for not being a big box office hit like pacino's previous film , \" scent of a woman , \" and not having as strong a performance as he did in that one ( he had just won an oscar ) , \" carlito's way \" was destined for underrated heaven . \n",
      "that's what it is : an underrated gem of a movie . \n",
      "and what a shame because pacino and de palma both do amazing jobs with it , and turn it into a great piece of a pulpy character study . \n",
      " \" carlito's way \" deals with , well , carlito brigante ( pacino ) , a puerto rican ex-drug kingpin , who gets out of a long jailterm when his coke-addicted , curly-haired lawyer ( sean penn ) points out a legal technicality . \n",
      "of course , carlito was actually awoken in prison , and has decided to go straight , even if he's really a crook at heart . \n",
      "carlito , like barry lyndon , is a man who is trapped by fate at every turn , and can't escape into something he is not . \n",
      "carlito's attempts at a clean , legal life are thwarted at nearly every turn . \n",
      "when he first gets out , a friend of his ends up leading him into a big shoot-out , where he has to kill a couple people to survive . \n",
      "he's constantly getting bugged by the government to see if he's doing anything illegal , and his lawyer finds himself neck-deep in a pile of shit , needing him to try and help him out , which includes him doing some prison breaking . \n",
      "carlito , like ratso rizzo , wants to go to miami ( since , according to film logic , that's where it's at ) , but needs some funding . \n",
      "being a legend , he is quickly able to get a nice job running a big dance club ( this is the 70s , by the way , and since some of this takes place in night clubs , we get to hear all sorts of 70s classics , including several k . c . \n",
      "and the sunshine band tunes - my personal favorite ) . \n",
      "he gets a bodyguard ( the great luis guzman , at his best ) , and is soon running a pretty good business , even if he's constantly attracting underworld young thugs , like benny blanco \" from the bronx \" ( john leguiziamo ) , who is more than once pointed out to be a young version of carlito . \n",
      "on the other side , the symbol of promise and hope , is gail ( penelope ann miller - what happened to her ? ) , his girlfriend from before prison . \n",
      "she's a goregeous ballerina , and a stripper , and soon carlito is trying to get back with her , and take her with him when he finally leaves for miami . \n",
      "while this relationship is never fully defined or anything , we get a sense of love between them , and they have some truly interesting scenes between them ( she never gives him addresses or locales - he always has to track her down ) . \n",
      "all of these elements clash together at the end , in a brilliantly executed , emotional climax , which is inevitable . \n",
      "when i say inevitable , i mean we see it at the beginning and then backtrack , putting a great spin on it . \n",
      "sure , it's going to eleveate some of the tension , but it gives the film a lot of depth , as carlito is seen trapped by fate . \n",
      "what's amazing is the big chase sequence ( amazingly done by de palma ) has a lot of tension and thrills . \n",
      "like \" apollo 13 , \" we know what's going to happen , but we're still thrilled by what happens in the middle . \n",
      "it's also very emotional , thanks to a great script by david koepp , and amazing performances by pacino and miller . \n",
      "de palma is famous ( or infamous ) for lots of violence in his films . \n",
      "his earlier flim , \" scarface \" ( which starred pacino in the lead ) , has a ton of it , especially at the end ( and a nasty chainsaw scene towards the beginning which i'm still not over ) . \n",
      "but de palma actually reigns in more quieter scenes . \n",
      "to me , the best scene in the film is when carlito is on top of a building , looking down into the room where gail is doing ballet . \n",
      "this is the most brilliantly done , and most emotionally stimulating scene in the entire film , and probably the best in de palma film history . \n",
      "with a gorgeous soprano duet in the background , and rain pouring down onto a trashcan lid covering carlito's head , and a saddened , remorseful look on pacino's face , it's a tear-jerker ( well , for me , i dunno about you . . . ) . \n",
      "the acting from all is great , especially from the three leads . \n",
      "pacino was panned for his performance , chiefly because his accent wasn't puerto rican enough and , well , it wasn't as \" strong \" as his oscar-winning role in \" scent of a woman . \" \n",
      "well , his \" scent of a woman \" performance was great and all , but it was nothing really but , as comic kevin pollack said , a \" foghorn leghorn impression . \" \n",
      "in \" carlito's way , \" he's emotional , and strong , despite the fact that he's remorseful over his entire lifestyle , which he cannot change . \n",
      "i felt more for carlito brigante than i did for the tango-dancing , insult-throwing blind guy in \" scent of a woman . \" \n",
      "as i said , penelope ann miller is great , and she and pacino actually have very good chemistry . \n",
      "and they're scenes are well-written , with some good clever dialogue which adds some interest to an otherwise bland relationship . \n",
      "and sean penn is amazing as the coke-addicted rat attorney . \n",
      "every scene he's in , he has great energy , and even measures up to the greatness that is pacino . \n",
      "in smaller roles , john leguiziamo and luis guzman are great . \n",
      " \" carlito's way \" is one of those films which you heard about briefly , but when you finally watch it , you're absolutely blown away . \n",
      "it's a wonderful film , a highly underrated little masterpiece which was shelved after it didn't do so hot . \n",
      "but trust me and check it out . \n",
      "it's a great little film , and proof that the residential critics and mass populus are not always right . \n",
      "\n"
     ]
    }
   ],
   "source": [
    "print(example_text)"
   ]
  },
  {
   "cell_type": "markdown",
   "metadata": {
    "deletable": true,
    "editable": true,
    "slideshow": {
     "slide_type": "subslide"
    }
   },
   "source": [
    "### Counting words"
   ]
  },
  {
   "cell_type": "code",
   "execution_count": 12,
   "metadata": {
    "collapsed": false,
    "deletable": true,
    "editable": true,
    "slideshow": {
     "slide_type": "-"
    }
   },
   "outputs": [
    {
     "name": "stdout",
     "output_type": "stream",
     "text": [
      "Counter({'a': 47, 'and': 37, 'the': 31, 'is': 26, 'of': 24, 'to': 20, 'in': 18, 'it': 13, 'his': 12, 'he': 11, 'great': 10, 'at': 9, 'carlito': 9, 'film': 8, 'by': 8, 'which': 8, 'for': 8, 'as': 8, 'but': 8, 'some': 7, \"he's\": 7, 'out': 7, 'pacino': 7, \"carlito's\": 7, 'when': 6, 'him': 6, 'has': 6, \"it's\": 6, 'was': 6, 'i': 6, 'with': 6, 'way': 6, 'not': 5, 'palma': 5, 'well': 5, 'like': 5, 'de': 5, 'big': 4, 'what': 4, 'all': 4, 'woman': 4, 'into': 4, 'amazing': 4, 'that': 4, 'from': 4, 'her': 4, 'get': 4, 'are': 4, 'scent': 4, 'good': 4, 'scene': 4, 'this': 4, 'we': 4, 'on': 4, 'underrated': 3, 'who': 3, 'if': 3, 'performance': 3, 'you': 3, 'every': 3, 'actually': 3, 'emotional': 3, 'down': 3, 'where': 3, \"what's\": 3, 'best': 3, 'about': 3, 'even': 3, 'scenes': 3, 'or': 3, 'prison': 3, 'miller': 3, 'more': 3, 'doing': 3, 'me': 3, 'strong': 3, 'gets': 3, 'an': 3, 'turn': 3, 'since': 2, 'lot': 2, 'sean': 2, 'done': 2, 'luis': 2, 'said': 2, 'being': 2, 'did': 2, 'still': 2, 'never': 2, 'them': 2, '70s': 2, 'trapped': 2, 'ann': 2, 'inevitable': 2, 'over': 2, 'running': 2, \"wasn't\": 2, 'coke': 2, 'brilliantly': 2, 'finally': 2, 'always': 2, 'oscar': 2, 'tension': 2, 'legal': 2, 'penn': 2, 'puerto': 2, \"that's\": 2, 'young': 2, 'miami': 2, 'soon': 2, 'most': 2, 'films': 2, 'lawyer': 2, 'especially': 2, 'guzman': 2, 'do': 2, 'between': 2, 'really': 2, 'constantly': 2, 'have': 2, 'relationship': 2, 'leguiziamo': 2, 'rican': 2, 'see': 2, 'having': 2, 'fate': 2, 'brigante': 2, 'gives': 2, 'end': 2, 'going': 2, 'than': 2, 'gail': 2, 'very': 2, 'penelope': 2, \"pacino's\": 2, 'remorseful': 2, 'go': 2, 'up': 2, 'because': 2, 'entire': 2, 'beginning': 2, 'john': 2, 'anything': 2, 'addicted': 2, 'little': 2, 'one': 2, 'she': 2, 'so': 1, 'movie': 1, 'nearly': 1, 'hope': 1, 'pointed': 1, 'gem': 1, 'guy': 1, 'koepp': 1, 'ends': 1, 'box': 1, 'shit': 1, 'pouring': 1, 'dance': 1, 'otherwise': 1, 'top': 1, 'technicality': 1, 'stripper': 1, 'heaven': 1, 'bland': 1, 'fact': 1, 'once': 1, 'pile': 1, 'eleveate': 1, 'putting': 1, 'barry': 1, 'thrills': 1, 'check': 1, 'proof': 1, 'clever': 1, 'briefly': 1, 'pretty': 1, 'nothing': 1, 'jerker': 1, 'points': 1, 'interesting': 1, 'c': 1, 'office': 1, \"we're\": 1, 'sunshine': 1, 'panned': 1, 'dancing': 1, 'track': 1, 'trust': 1, 'watch': 1, 'ballet': 1, 'violence': 1, 'foghorn': 1, 'place': 1, 'personal': 1, 'david': 1, 'seen': 1, 'course': 1, \"she's\": 1, 'according': 1, 'something': 1, 'felt': 1, 'before': 1, 'emotionally': 1, 'sorts': 1, 'impression': 1, 'locales': 1, 'bit': 1, 'these': 1, 'pulpy': 1, 'sense': 1, 'attorney': 1, 'destined': 1, 'man': 1, 'say': 1, 'also': 1, 'funding': 1, 'bodyguard': 1, 'back': 1, 'shelved': 1, 'look': 1, 'probably': 1, \"you're\": 1, 'several': 1, 'acting': 1, 'bad': 1, 'heart': 1, 'escape': 1, 'piece': 1, 'favorite': 1, 'clash': 1, 'gorgeous': 1, 'backtrack': 1, 'classics': 1, 'saddened': 1, 'change': 1, 'head': 1, 'comic': 1, 'executed': 1, 'background': 1, 'including': 1, 'lyndon': 1, 'apollo': 1, 'depth': 1, 'thugs': 1, 'addresses': 1, 'bugged': 1, 'hit': 1, 'benny': 1, 'fully': 1, 'my': 1, 'energy': 1, 'needing': 1, 'attempts': 1, 'k': 1, 'blanco': 1, 'scarface': 1, 'leghorn': 1, 'club': 1, 'try': 1, 'people': 1, 'defined': 1, 'study': 1, 'enough': 1, 'measures': 1, 'tango': 1, 'happen': 1, 'right': 1, 'goregeous': 1, 'ballerina': 1, 'they': 1, 'tear': 1, 'heard': 1, 'love': 1, 'needs': 1, 'decided': 1, 'leading': 1, 'dialogue': 1, 'residential': 1, 'starred': 1, 'business': 1, \"can't\": 1, 'takes': 1, 'night': 1, 'girlfriend': 1, 'room': 1, '13': 1, 'long': 1, 'how': 1, 'awoken': 1, 'thwarted': 1, 'those': 1, \"didn't\": 1, 'towards': 1, 'previous': 1, 'insult': 1, 'side': 1, 'leads': 1, 'onto': 1, 'after': 1, 'band': 1, 'smaller': 1, 'masterpiece': 1, 'nasty': 1, 'attracting': 1, 'earlier': 1, 'help': 1, 'leaves': 1, 'clean': 1, 'throwing': 1, 'couple': 1, 'drug': 1, 'sure': 1, 'blown': 1, 'infamous': 1, 'populus': 1, 'spin': 1, 'mass': 1, 'chemistry': 1, 'take': 1, 'rat': 1, 'truly': 1, 'then': 1, 'survive': 1, 'stimulating': 1, 'trying': 1, 'shocking': 1, 'chainsaw': 1, 'ex': 1, 'shoot': 1, 'clubs': 1, 'duet': 1, 'tunes': 1, 'other': 1, 'be': 1, 'sequence': 1, 'thrilled': 1, 'getting': 1, 'flim': 1, 'dunno': 1, 'interest': 1, 'able': 1, 'looking': 1, 'chiefly': 1, 'friend': 1, 'promise': 1, 'script': 1, 'curly': 1, 'lifestyle': 1, 'know': 1, 'covering': 1, 'absolutely': 1, 'shame': 1, 'lots': 1, \"i'm\": 1, 'pollack': 1, 'kill': 1, 'amazingly': 1, 'first': 1, 'legend': 1, 'ratso': 1, 'while': 1, 'critics': 1, 'highly': 1, 'haired': 1, 'illegal': 1, 'version': 1, 'written': 1, 'building': 1, 'jobs': 1, 'despite': 1, 'underworld': 1, 'away': 1, 'cannot': 1, 'reigns': 1, 'thanks': 1, 'symbol': 1, 'winning': 1, 'roles': 1, 'role': 1, 'himself': 1, 'neck': 1, 'mean': 1, 'performances': 1, 'adds': 1, 'job': 1, 'deep': 1, 'straight': 1, 'government': 1, 'logic': 1, 'rap': 1, 'three': 1, 'kevin': 1, 'character': 1, 'chase': 1, 'greatness': 1, 'trashcan': 1, 'happened': 1, 'happens': 1, 'soprano': 1, 'elements': 1, 'deals': 1, 'middle': 1, 'just': 1, 'famous': 1, 'wonderful': 1, 'crook': 1, 'lid': 1, 'accent': 1, 'rizzo': 1, 'won': 1, 'history': 1, 'life': 1, 'wants': 1, 'gotten': 1, 'rain': 1, 'includes': 1, 'hear': 1, 'hot': 1, 'both': 1, 'breaking': 1, 'kingpin': 1, 'bronx': 1, 'had': 1, \"they're\": 1, 'finds': 1, 'together': 1, 'blind': 1, 'jailterm': 1, 'ton': 1, 'lead': 1, 'climax': 1, 'nice': 1, 'quickly': 1, 'quieter': 1, 'face': 1})\n"
     ]
    }
   ],
   "source": [
    "dictionary = Counter(re.sub(\"[^\\w']\",\" \",example_text).split())\n",
    "print(dictionary)"
   ]
  },
  {
   "cell_type": "markdown",
   "metadata": {
    "deletable": true,
    "editable": true,
    "slideshow": {
     "slide_type": "subslide"
    }
   },
   "source": [
    "### Bag of words representation\n",
    "\n",
    "- The higher the counts for a word, the more important it is for the document\n",
    "- No document has very word; most have 0 counts (implicitly)"
   ]
  },
  {
   "cell_type": "markdown",
   "metadata": {
    "deletable": true,
    "editable": true,
    "slideshow": {
     "slide_type": "fragment"
    }
   },
   "source": [
    "Anything missing?"
   ]
  },
  {
   "cell_type": "markdown",
   "metadata": {
    "deletable": true,
    "editable": true,
    "slideshow": {
     "slide_type": "fragment"
    }
   },
   "source": [
    "- which words to keep?\n",
    "- how to value their presence/absence?\n",
    "- word order is ignored, could we add bigrams?"
   ]
  },
  {
   "cell_type": "markdown",
   "metadata": {
    "deletable": true,
    "editable": true,
    "slideshow": {
     "slide_type": "fragment"
    }
   },
   "source": [
    "Choice of representation (features) matters a lot!"
   ]
  },
  {
   "cell_type": "markdown",
   "metadata": {
    "deletable": true,
    "editable": true,
    "slideshow": {
     "slide_type": "slide"
    }
   },
   "source": [
    "### Our first classifier\n",
    "\n",
    "Now we have represented a text as counts over words/features.\n",
    "\n",
    "We need a model to decide whether the review is positive or negative."
   ]
  },
  {
   "cell_type": "markdown",
   "metadata": {
    "deletable": true,
    "editable": true,
    "slideshow": {
     "slide_type": "fragment"
    }
   },
   "source": [
    "If each word $n$ has counts $x_n$ in the review and is associated with a weight ($w_n$), then:\n",
    "\n",
    "$$\\hat y = sign(\\sum_{n=1}^N w_nx_n) = sign(\\mathbf{w} \\cdot \\mathbf{x})$$"
   ]
  },
  {
   "cell_type": "code",
   "execution_count": 26,
   "metadata": {
    "collapsed": true,
    "deletable": true,
    "editable": true,
    "slideshow": {
     "slide_type": "skip"
    }
   },
   "outputs": [],
   "source": [
    "bag_of_words=Counter({'and': 37, 'is': 26, 'he': 11, 'great': 10, 'carlito': 9, 'film': 8, 'but': 8, 'some': 7, 'pacino': 7, \"carlito's\": 7, 'palma': 5, 'well': 5, 'like': 5,  'woman': 4, 'amazing': 4}) "
   ]
  },
  {
   "cell_type": "markdown",
   "metadata": {
    "deletable": true,
    "editable": true,
    "slideshow": {
     "slide_type": "subslide"
    }
   },
   "source": [
    "$$\\hat y = sign(\\sum_{n=1}^N w_nx_n) = sign(\\mathbf{w} \\cdot \\mathbf{x})$$"
   ]
  },
  {
   "cell_type": "code",
   "execution_count": 18,
   "metadata": {
    "collapsed": false,
    "deletable": true,
    "editable": true
   },
   "outputs": [
    {
     "name": "stdout",
     "output_type": "stream",
     "text": [
      "Counter({'and': 37, 'is': 26, 'he': 11, 'great': 10, 'carlito': 9, 'but': 8, 'film': 8, 'some': 7, \"carlito's\": 7, 'pacino': 7, 'like': 5, 'palma': 5, 'well': 5, 'amazing': 4, 'woman': 4})\n"
     ]
    }
   ],
   "source": [
    "print(bag_of_words)"
   ]
  },
  {
   "cell_type": "code",
   "execution_count": 34,
   "metadata": {
    "collapsed": false,
    "deletable": true,
    "editable": true
   },
   "outputs": [],
   "source": [
    "weights = dict({'and': 0.0, 'is': 0.0, 'he': 0.0, 'great': 0.0,\\\n",
    "                'carlito': 0.0, 'but': 0.0, 'film': 0.0, 'some': 0.0,\\\n",
    "                'carlito\\'s': 0.0, 'pacino': 0.0, 'like': 0.0,\\\n",
    "                'palma': 0.0, 'well': 0.0, 'amazing': 0.0, 'woman': 0.0})"
   ]
  },
  {
   "cell_type": "code",
   "execution_count": 37,
   "metadata": {
    "collapsed": false
   },
   "outputs": [
    {
     "name": "stdout",
     "output_type": "stream",
     "text": [
      "0.0\n",
      "positive\n"
     ]
    }
   ],
   "source": [
    "score = 0.0\n",
    "for word, counts in bag_of_words.items():\n",
    "    score += counts * weights[word]\n",
    "print(score)\n",
    "print(\"positive\") if score >= 0.0 else print(\"negative\")"
   ]
  },
  {
   "cell_type": "markdown",
   "metadata": {
    "deletable": true,
    "editable": true,
    "slideshow": {
     "slide_type": "subslide"
    }
   },
   "source": [
    "<h3>Another view</h3>\n",
    "<a href=\"https://blog.dbrgn.ch/2013/3/26/perceptrons-in-python/\"><img src=\"images/perceptron.png\" style=\"width:600px; background:none; border:none; box-shadow:none;\" /></a>\n",
    "<p class=\"fragment\">\n",
    "How to learn the weights $\\mathbf{w}$?\n",
    "</p>"
   ]
  },
  {
   "cell_type": "markdown",
   "metadata": {
    "deletable": true,
    "editable": true,
    "slideshow": {
     "slide_type": "slide"
    }
   },
   "source": [
    "<h3>The perceptron</h3>\n",
    "\n",
    "<p><img style=\"float: left; width:40%\" src=\"images/colorfulperceptron.jpg\"/><img src=\"images/Rosenblatt-CAL1958.jpg\" style=\"width:35%; float: right;\"/>\n",
    "</p>"
   ]
  },
  {
   "cell_type": "markdown",
   "metadata": {
    "deletable": true,
    "editable": true,
    "slideshow": {
     "slide_type": "-"
    }
   },
   "source": [
    "<p>Proposed by Rosenblatt in 1958 and still in use by researchers</p>"
   ]
  },
  {
   "cell_type": "markdown",
   "metadata": {
    "slideshow": {
     "slide_type": "subslide"
    }
   },
   "source": [
    "### Supervised learning\n",
    "\n",
    "Given training documents with the correct labels\n",
    "\n",
    "$$D_{train} = \\{\\mathbf{x}^1,y^1)...(\\mathbf{x}^M,y^M)\\}$$\n",
    "\n",
    "Find the weights $\\mathbf{w}$ for the linear classifier\n",
    "\n",
    "$$\\hat y = sign(\\sum_{n=1}^N w_nx_n) = sign(\\mathbf{w} \\cdot \\mathbf{x})$$\n",
    "\n",
    "so that we can predict the labels of **unseen** documents\n"
   ]
  },
  {
   "cell_type": "markdown",
   "metadata": {
    "slideshow": {
     "slide_type": "subslide"
    }
   },
   "source": [
    "### Supervised learning\n",
    "\n",
    "\n",
    "<img src=\"images/supervisedMLbyRaschka.jpg\" style=\"width:100%;\">"
   ]
  },
  {
   "cell_type": "markdown",
   "metadata": {
    "slideshow": {
     "slide_type": "subslide"
    }
   },
   "source": [
    "<h3>Learning with the perceptron</h3>\n",
    "<p style=\"font-size: 100%; border:3px; width: 90%; border-radius: 25px; background-color:lightgrey; border-style:solid; border-color:black; padding: 0.3em;\">\n",
    "\\begin{align}\n",
    "& \\textbf{Input:} \\; D_{train} = \\{(\\mathbf{x}^1,y^1)...(\\mathbf{x}^M,y^M)\\}\\\\\n",
    "& set\\; \\mathbf{w} = \\mathbf{0} \\\\\n",
    "& \\mathbf{for} \\; (\\mathbf{x},y) \\in D_{train} \\; \\mathbf{do}\\\\\n",
    "& \\quad predict  \\; \\hat y = sign(\\mathbf{w}\\cdot \\phi(\\mathbf{x}))\\\\\n",
    "& \\quad \\mathbf{if} \\; \\hat y \\neq y \\; \\mathbf{then}\\\\\n",
    "& \\quad \\quad \\mathbf{if} \\; \\hat y\\; \\mathbf{is}\\; 1 \\; \\mathbf{then}\\\\\n",
    "& \\quad \\quad \\quad update \\; \\mathbf{w} = \\mathbf{w} - \\phi(\\mathbf{x})\\\\\n",
    "& \\quad \\quad \\mathbf{else}\\\\\n",
    "& \\quad \\quad \\quad update \\; \\mathbf{w} = \\mathbf{w} + \\phi(\\mathbf{x})\\\\\n",
    "& \\mathbf{return} \\; \\mathbf{w}\n",
    "\\end{align}\n",
    "</p>\n",
    "\n",
    "<ul class=\"fragment\">\n",
    "<li>error-driven, online learning</li>\n",
    "<li>$x$ is the document $\\phi(x)$ is the bag of words, bigrams, etc.</li>\n",
    "</ul>"
   ]
  },
  {
   "cell_type": "markdown",
   "metadata": {
    "slideshow": {
     "slide_type": "slide"
    }
   },
   "source": [
    "### A little test\n",
    "\n",
    "Given the following tweets labeled with sentiment:\n",
    "\n",
    "| Label        | Tweet | \n",
    "| -------------|--------|\n",
    "| negative     | Very sad about Iran. |\n",
    "| negative     | No Sat off...Need to work 6 days a week. |\n",
    "| negative     | I’m a sad panda today.|\n",
    "| positive     | such a beautiful satisfying day of bargain shopping. loves it. |\n",
    "| positive     | who else is in a happy mood?? |\n",
    "| positive     | actually quite happy today. |\n",
    "\n",
    "What features would the perceptron find indicative of positive/negative class?\n",
    "\n",
    "Would they generalize to unseen test data?"
   ]
  },
  {
   "cell_type": "markdown",
   "metadata": {
    "slideshow": {
     "slide_type": "slide"
    }
   },
   "source": [
    "### Evaluation\n",
    "\n",
    "The standard way to evaluate our classifier is:\n",
    "\n",
    "$$ Accuracy = \\frac{correctLabels}{allInstances}$$\n",
    "\n",
    "What could go wrong?"
   ]
  },
  {
   "cell_type": "markdown",
   "metadata": {
    "slideshow": {
     "slide_type": "fragment"
    }
   },
   "source": [
    "When one class is much more common than the other, predicting it always\n",
    "gives high accuracy."
   ]
  },
  {
   "cell_type": "markdown",
   "metadata": {
    "slideshow": {
     "slide_type": "subslide"
    }
   },
   "source": [
    "### Evaluation\n",
    "\n",
    "| Predicted/Correct\t| MinorityClass | MajorityClass  |\n",
    "| ------------- \t\t|:-------------:| -----:|\n",
    "| **MinorityClass**     | TruePositive | FalsePositive |\n",
    "| **MajorityClass**     | FalseNegative  | TrueNegative |\n",
    "\n",
    "$$ Precision = \\frac{TruePositive}{TruePositive+FalsePositive}$$\n",
    "\n",
    "$$ Recall = \\frac{TruePositive}{TruePositive+FalseNegative}$$"
   ]
  },
  {
   "cell_type": "markdown",
   "metadata": {
    "slideshow": {
     "slide_type": "slide"
    }
   },
   "source": [
    "### Time for (another!) test\n",
    "\n",
    "<img src=\"images/maxresdefault.jpg\" style=\"width:100%;\">\n",
    "\n",
    "Discuss in pairs what features you would use in a classifier that predicts FAIL/PASS for an essay!"
   ]
  }
 ],
 "metadata": {
  "celltoolbar": "Slideshow",
  "kernelspec": {
   "display_name": "Python 3",
   "language": "python",
   "name": "python3"
  },
  "language_info": {
   "codemirror_mode": {
    "name": "ipython",
    "version": 3
   },
   "file_extension": ".py",
   "mimetype": "text/x-python",
   "name": "python",
   "nbconvert_exporter": "python",
   "pygments_lexer": "ipython3",
   "version": "3.5.2"
  },
  "livereveal": {
   "start_slideshow_at": "selected",
   "theme": "solarized",
   "transition": "slide"
  }
 },
 "nbformat": 4,
 "nbformat_minor": 2
}
