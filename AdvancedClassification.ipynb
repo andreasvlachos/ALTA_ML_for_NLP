{
 "cells": [
  {
   "cell_type": "markdown",
   "metadata": {
    "deletable": true,
    "editable": true,
    "slideshow": {
     "slide_type": "slide"
    }
   },
   "source": [
    "### Other classification methods?\n",
    "\n",
    "<img src=\"images/perceptron_img1_cmu.png\" style=\"width:100%; background:none; border:none; box-shadow:none;\" />\n",
    "\n",
    "The perceptron is great, but not enough for all we need!"
   ]
  },
  {
   "cell_type": "markdown",
   "metadata": {
    "deletable": true,
    "editable": true,
    "slideshow": {
     "slide_type": "slide"
    }
   },
   "source": [
    "### Uncertainty estimates?\n",
    "\n",
    "The perceptron gives scores that only mean that one instance is more negative/positive than another. No notion of certainty/probability. \n",
    "\n",
    "The sigmoid function $\\sigma$ \"squishes\" any real number between 0 and 1:\n",
    "<img src=\"images/Logistic-curve.svg.png\" style=\"width:50%; background:none; border:none; box-shadow:none;\" />\n",
    "\n",
    "Logistic regression: $P(y = 1) = \\sigma(\\mathbf{w} \\cdot \\mathbf{x})$"
   ]
  },
  {
   "cell_type": "markdown",
   "metadata": {
    "deletable": true,
    "editable": true,
    "slideshow": {
     "slide_type": "slide"
    }
   },
   "source": [
    "### Multiclass classification?\n",
    "\n",
    "Not all classifications we need are binary:\n",
    "- topic genres\n",
    "- fine-grained sentiment classification\n",
    "- essay scoring according to different aspects\n",
    "\n",
    "The binary percepton cannot do it..."
   ]
  },
  {
   "cell_type": "markdown",
   "metadata": {
    "deletable": true,
    "editable": true,
    "slideshow": {
     "slide_type": "fragment"
    }
   },
   "source": [
    "Many of them together though can!"
   ]
  },
  {
   "cell_type": "markdown",
   "metadata": {
    "deletable": true,
    "editable": true,
    "slideshow": {
     "slide_type": "subslide"
    }
   },
   "source": [
    "### One against all\n",
    "\n",
    "<img src=\"images/logreg703_wikidocs.PNG\" style=\"width:80%; background:none; border:none; box-shadow:none;\" />\n",
    "\n",
    "- Training: one binary classifier for each class against the rest\n",
    "- Testing: apply all classifiers, the highest scoring one wins"
   ]
  },
  {
   "cell_type": "markdown",
   "metadata": {
    "deletable": true,
    "editable": true,
    "slideshow": {
     "slide_type": "slide"
    }
   },
   "source": [
    "### Non-linear classification\n",
    "\n",
    "<img src=\"images/perceptron_xor.png\" style=\"width:40%; background:none; border:none; box-shadow:none;\" />\n",
    "\n",
    "- Linear classifiers (perceptron, logistic regression, etc.) can't solve this\n",
    "- Partly responsible for one AI winter\n",
    "- Neural networks with appropriate architecture can!"
   ]
  },
  {
   "cell_type": "markdown",
   "metadata": {
    "deletable": true,
    "editable": true,
    "slideshow": {
     "slide_type": "slide"
    }
   },
   "source": [
    "### Recap\n",
    "\n",
    "- Learned how to represent text with numbers\n",
    "- How to learn binary linear classifiers with the perceptron\n",
    "- Got a taste of feature engineering\n",
    "- Saw some extensions for more advanced classification tasks"
   ]
  },
  {
   "cell_type": "markdown",
   "metadata": {
    "deletable": true,
    "editable": true,
    "slideshow": {
     "slide_type": "slide"
    }
   },
   "source": [
    "<center>\n",
    "\n",
    "<h1>Break!</h1>\n",
    "\n",
    "<center>"
   ]
  }
 ],
 "metadata": {
  "celltoolbar": "Slideshow",
  "kernelspec": {
   "display_name": "Python 3",
   "language": "python",
   "name": "python3"
  },
  "language_info": {
   "codemirror_mode": {
    "name": "ipython",
    "version": 3
   },
   "file_extension": ".py",
   "mimetype": "text/x-python",
   "name": "python",
   "nbconvert_exporter": "python",
   "pygments_lexer": "ipython3",
   "version": "3.5.2"
  },
  "livereveal": {
   "start_slideshow_at": "selected",
   "theme": "solarized",
   "transition": "slide"
  }
 },
 "nbformat": 4,
 "nbformat_minor": 2
}
