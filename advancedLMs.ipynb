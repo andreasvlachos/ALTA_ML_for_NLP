{
 "cells": [
  {
   "cell_type": "markdown",
   "metadata": {
    "deletable": true,
    "editable": true,
    "slideshow": {
     "slide_type": "slide"
    }
   },
   "source": [
    "### More language modeling\n",
    "\n",
    "<img style:\"float:left\" src=\"images/dinosaur_ngrams.png\"/>\n",
    "\n",
    "<p>Recap by the <a href=\"http://nlp.cs.berkeley.edu/comics.shtml\">Berkeley NLP group</a>"
   ]
  },
  {
   "cell_type": "markdown",
   "metadata": {
    "collapsed": true,
    "deletable": true,
    "editable": true,
    "slideshow": {
     "slide_type": "slide"
    }
   },
   "source": [
    "### Simple Linear Interpolation\n",
    "\n",
    "<p style=\"font-size: 100%;\">Let's combine them (for 3gram LM, $k=2$):</p>\n",
    "\n",
    "\\begin{align}\n",
    "P_{SLI}(x_n|x_{n-1},x_{n-2})& = \\lambda_1 P(x_n|x_{n-1},x_{n-2})\\\\\n",
    "& + \\lambda_2 P(x_n|x_{n-1})\\\\\n",
    "& + \\lambda_{k+1}P(x_n) \\qquad \\lambda_i>0, \\sum \\lambda_i = 1\n",
    "\\end{align}\n",
    "\n",
    "Every model can be fooled, avoid relying on any one exclusively!"
   ]
  },
  {
   "cell_type": "markdown",
   "metadata": {
    "deletable": true,
    "editable": true,
    "slideshow": {
     "slide_type": "slide"
    }
   },
   "source": [
    "### Syntax-based language models\n",
    "\n",
    "<img style:\"float:left\" src=\"images/depLM.png\"/>\n",
    "\n",
    "$$P(\\text{binoculars}|\\text{saw})$$\n",
    "\n",
    "more informative than:\n",
    "\n",
    "$$(\\text{binoculars}| \\text{strong}, \\text{very}, \\text{with}, \\text{ship}, \\text{the},\\text{saw})$$"
   ]
  },
  {
   "cell_type": "markdown",
   "metadata": {
    "deletable": true,
    "editable": true,
    "slideshow": {
     "slide_type": "slide"
    }
   },
   "source": [
    "### Neural language models\n",
    "\n",
    "<a href=\"http://torch.ch/blog/2016/07/25/nce.html\"><img style:\"width:60%\" src=\"images/rnnlm_torch.png\"/></a>\n",
    "\n",
    "Words and contexts are represented by sets of numbers (vectors):\n",
    "- similar word/phrases have similar representations\n",
    "- unseen word combinations have non-zero probability"
   ]
  },
  {
   "cell_type": "markdown",
   "metadata": {
    "deletable": true,
    "editable": true,
    "slideshow": {
     "slide_type": "slide"
    }
   },
   "source": [
    "### Last words: More data defeats smarter model:\n",
    "\n",
    "<a href=\"http://www.aclweb.org/anthology/D07-1090.pdf\"><img style=\"width:80%;\" src=\"images/MT_LM.png\"/></a>"
   ]
  },
  {
   "cell_type": "markdown",
   "metadata": {
    "slideshow": {
     "slide_type": "slide"
    }
   },
   "source": [
    "### Last words (really!)\n",
    "\n",
    "Recap:\n",
    "- language models capture a simplified notion of language\n",
    "- context matters (use bigrams or more)\n",
    "- very active research topic with many applications"
   ]
  },
  {
   "cell_type": "markdown",
   "metadata": {
    "slideshow": {
     "slide_type": "fragment"
    }
   },
   "source": [
    "### Thanks for your attention!"
   ]
  }
 ],
 "metadata": {
  "celltoolbar": "Slideshow",
  "kernelspec": {
   "display_name": "Python 3",
   "language": "python",
   "name": "python3"
  },
  "language_info": {
   "codemirror_mode": {
    "name": "ipython",
    "version": 3
   },
   "file_extension": ".py",
   "mimetype": "text/x-python",
   "name": "python",
   "nbconvert_exporter": "python",
   "pygments_lexer": "ipython3",
   "version": "3.5.2"
  },
  "livereveal": {
   "start_slideshow_at": "selected",
   "theme": "solarized",
   "transition": "slide"
  }
 },
 "nbformat": 4,
 "nbformat_minor": 2
}
